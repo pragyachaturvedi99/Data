{
  "cells": [
    {
      "cell_type": "code",
      "execution_count": 139,
      "metadata": {
        "colab": {
          "base_uri": "https://localhost:8080/"
        },
        "id": "xC0ESYTWqfss",
        "outputId": "1b7037b0-8b28-4fac-fab9-fc66f03a2e85"
      },
      "outputs": [
        {
          "output_type": "stream",
          "name": "stdout",
          "text": [
            "Requirement already satisfied: pycocotools in /usr/local/lib/python3.7/dist-packages (2.0.4)\n",
            "Requirement already satisfied: matplotlib>=2.1.0 in /usr/local/lib/python3.7/dist-packages (from pycocotools) (3.2.2)\n",
            "Requirement already satisfied: numpy in /usr/local/lib/python3.7/dist-packages (from pycocotools) (1.21.5)\n",
            "Requirement already satisfied: cycler>=0.10 in /usr/local/lib/python3.7/dist-packages (from matplotlib>=2.1.0->pycocotools) (0.11.0)\n",
            "Requirement already satisfied: pyparsing!=2.0.4,!=2.1.2,!=2.1.6,>=2.0.1 in /usr/local/lib/python3.7/dist-packages (from matplotlib>=2.1.0->pycocotools) (3.0.7)\n",
            "Requirement already satisfied: kiwisolver>=1.0.1 in /usr/local/lib/python3.7/dist-packages (from matplotlib>=2.1.0->pycocotools) (1.4.0)\n",
            "Requirement already satisfied: python-dateutil>=2.1 in /usr/local/lib/python3.7/dist-packages (from matplotlib>=2.1.0->pycocotools) (2.8.2)\n",
            "Requirement already satisfied: typing-extensions in /usr/local/lib/python3.7/dist-packages (from kiwisolver>=1.0.1->matplotlib>=2.1.0->pycocotools) (3.10.0.2)\n",
            "Requirement already satisfied: six>=1.5 in /usr/local/lib/python3.7/dist-packages (from python-dateutil>=2.1->matplotlib>=2.1.0->pycocotools) (1.15.0)\n"
          ]
        }
      ],
      "source": [
        "!pip install pycocotools\n",
        "import pandas as pd \n",
        "import os\n",
        "from pycocotools.coco import COCO\n",
        "import skimage.io as io\n",
        "import matplotlib.pyplot as plt\n",
        "from pathlib import Path\n",
        "import numpy as np"
      ]
    },
    {
      "cell_type": "code",
      "execution_count": 140,
      "metadata": {
        "id": "RVXum62aqjKo"
      },
      "outputs": [],
      "source": [
        "task=Path(\"/content/coco_instances_for_tasks_task_102_instances_default.json\")"
      ]
    },
    {
      "cell_type": "code",
      "execution_count": 141,
      "metadata": {
        "id": "3sgWWe6az_qO"
      },
      "outputs": [],
      "source": [
        "image1=Path('/content/Tasks_Task_102_readscan_309im_18patient_BA_20847.png')"
      ]
    },
    {
      "cell_type": "code",
      "execution_count": 142,
      "metadata": {
        "id": "Kyzs7mElupu8"
      },
      "outputs": [],
      "source": [
        "image2=Path('/content/Tasks_Task_102_readscan_309im_18patient_BNE_21041.png')"
      ]
    },
    {
      "cell_type": "code",
      "execution_count": 143,
      "metadata": {
        "id": "W_lVhzas6EO6"
      },
      "outputs": [],
      "source": [
        "import json"
      ]
    },
    {
      "cell_type": "code",
      "execution_count": 144,
      "metadata": {
        "id": "1Ma7ut_X6QU1"
      },
      "outputs": [],
      "source": [
        "with open(task) as json_file:\n",
        "    data = json.load(json_file)"
      ]
    },
    {
      "cell_type": "code",
      "execution_count": null,
      "metadata": {
        "colab": {
          "base_uri": "https://localhost:8080/"
        },
        "id": "d4VoNt0E6hH4",
        "outputId": "9d037bb9-a063-4721-cb8d-1b5214bc63b4"
      },
      "outputs": [
        {
          "data": {
            "text/plain": [
              "[{'coco_url': '',\n",
              "  'date_captured': 0,\n",
              "  'file_name': 'BA_13665.png',\n",
              "  'flickr_url': '',\n",
              "  'height': 256,\n",
              "  'id': 0,\n",
              "  'license': 0,\n",
              "  'width': 256}]"
            ]
          },
          "execution_count": 68,
          "metadata": {},
          "output_type": "execute_result"
        }
      ],
      "source": [
        "data['images'][0:1]"
      ]
    },
    {
      "cell_type": "code",
      "execution_count": 145,
      "metadata": {
        "colab": {
          "base_uri": "https://localhost:8080/"
        },
        "id": "fmQ72WsLI8dg",
        "outputId": "35b7265d-19e8-4d76-9851-635316d942e2"
      },
      "outputs": [
        {
          "output_type": "execute_result",
          "data": {
            "text/plain": [
              "{'contributor': '',\n",
              " 'date_created': '',\n",
              " 'description': '',\n",
              " 'url': '',\n",
              " 'version': '',\n",
              " 'year': ''}"
            ]
          },
          "metadata": {},
          "execution_count": 145
        }
      ],
      "source": [
        "data['info']"
      ]
    },
    {
      "cell_type": "code",
      "execution_count": 146,
      "metadata": {
        "colab": {
          "base_uri": "https://localhost:8080/"
        },
        "id": "fTj-k7HFJDJs",
        "outputId": "ce024358-8194-4b91-8266-1cbb37a518c3"
      },
      "outputs": [
        {
          "output_type": "execute_result",
          "data": {
            "text/plain": [
              "[{'id': 0, 'name': '', 'url': ''}]"
            ]
          },
          "metadata": {},
          "execution_count": 146
        }
      ],
      "source": [
        "data['licenses']"
      ]
    },
    {
      "cell_type": "code",
      "execution_count": 147,
      "metadata": {
        "id": "mlGs1usLHsES",
        "colab": {
          "base_uri": "https://localhost:8080/"
        },
        "outputId": "c91aef07-b1e9-4d6d-d134-3a8b1952fa56"
      },
      "outputs": [
        {
          "output_type": "stream",
          "name": "stdout",
          "text": [
            "Requirement already satisfied: pycocotools in /usr/local/lib/python3.7/dist-packages (2.0.4)\n",
            "Requirement already satisfied: numpy in /usr/local/lib/python3.7/dist-packages (from pycocotools) (1.21.5)\n",
            "Requirement already satisfied: matplotlib>=2.1.0 in /usr/local/lib/python3.7/dist-packages (from pycocotools) (3.2.2)\n",
            "Requirement already satisfied: kiwisolver>=1.0.1 in /usr/local/lib/python3.7/dist-packages (from matplotlib>=2.1.0->pycocotools) (1.4.0)\n",
            "Requirement already satisfied: pyparsing!=2.0.4,!=2.1.2,!=2.1.6,>=2.0.1 in /usr/local/lib/python3.7/dist-packages (from matplotlib>=2.1.0->pycocotools) (3.0.7)\n",
            "Requirement already satisfied: python-dateutil>=2.1 in /usr/local/lib/python3.7/dist-packages (from matplotlib>=2.1.0->pycocotools) (2.8.2)\n",
            "Requirement already satisfied: cycler>=0.10 in /usr/local/lib/python3.7/dist-packages (from matplotlib>=2.1.0->pycocotools) (0.11.0)\n",
            "Requirement already satisfied: typing-extensions in /usr/local/lib/python3.7/dist-packages (from kiwisolver>=1.0.1->matplotlib>=2.1.0->pycocotools) (3.10.0.2)\n",
            "Requirement already satisfied: six>=1.5 in /usr/local/lib/python3.7/dist-packages (from python-dateutil>=2.1->matplotlib>=2.1.0->pycocotools) (1.15.0)\n"
          ]
        }
      ],
      "source": [
        "!pip install pycocotools\n",
        "import pandas as pd \n",
        "import os\n",
        "from pycocotools.coco import COCO\n",
        "import skimage.io as io\n",
        "import matplotlib.pyplot as plt\n",
        "from pathlib import Path\n",
        "import csv"
      ]
    },
    {
      "cell_type": "code",
      "execution_count": 275,
      "metadata": {
        "id": "mTCOZuRPAQ9H"
      },
      "outputs": [],
      "source": [
        "class Data:\n",
        "  def __init__(self):\n",
        "    self=self\n",
        "    \n",
        "  def analysis(self, task_id):\n",
        "    task_id=str(task_id)\n",
        "    #path=\"https://storage.cloud.google.com/tfrecords_and_logs/coco_instances_for_tasks/task_\"+task_id+\"_instances_default.json\"\n",
        "    path=\"/content/coco_instances_for_tasks_task_\"+task_id+\"_instances_default.json\"\n",
        "    with open(path) as json_file:\n",
        "      data = json.load(json_file)\n",
        "    temp='category_id'\n",
        "    ann_dict=data['annotations']\n",
        "    cat_ids=list()\n",
        "    for ann in ann_dict:\n",
        "      cat_ids.append(ann['category_id'])\n",
        "      \n",
        "    values, counts = np.unique(cat_ids, return_counts=True)\n",
        "    p=COCO(path)\n",
        "    categories=p.loadCats(values)\n",
        "    categories_name=list()\n",
        "    for cat in categories:\n",
        "      categories_name.append(cat['name'])\n",
        "    c=[categories_name]\n",
        "    counts=counts.tolist()\n",
        "    cs=[counts]\n",
        "    wf=np.concatenate((c,cs),axis=0)\n",
        "      \n",
        "    # opening the csv file in 'w+' mode\n",
        "    file = open('/content/Data_analysis.csv', 'w+', newline ='')\n",
        "    fields=[['Category_name','count']] \n",
        "    # writing the data into the file\n",
        "    with file:  \n",
        "      write = csv.writer(file)\n",
        "      write.writerows(fields)\n",
        "      write.writerows(np.transpose(wf))\n",
        "    print(pd.read_csv('/content/Data_analysis.csv'))\n",
        "    return\n",
        "    \n",
        "\n"
      ]
    },
    {
      "cell_type": "code",
      "source": [
        "d=Data()"
      ],
      "metadata": {
        "id": "vAsYbY4a7HQe"
      },
      "execution_count": 276,
      "outputs": []
    },
    {
      "cell_type": "code",
      "source": [
        "d.analysis(102)"
      ],
      "metadata": {
        "colab": {
          "base_uri": "https://localhost:8080/"
        },
        "id": "Zda97ter7KS1",
        "outputId": "e93d28da-bfcd-47bc-bfeb-01283d45bb47"
      },
      "execution_count": 277,
      "outputs": [
        {
          "output_type": "stream",
          "name": "stdout",
          "text": [
            "loading annotations into memory...\n",
            "Done (t=0.01s)\n",
            "creating index...\n",
            "index created!\n",
            "                         Category_name  count\n",
            "0             Nucleated red blood cell      5\n",
            "1                       Large platelet      9\n",
            "2                           Neutrophil      6\n",
            "3  Band form (left shifted neutrophil)      5\n",
            "4                        Metamyelocyte     11\n",
            "5                            Myelocyte     35\n",
            "6                           Eosinophil    136\n",
            "7                             Basophil     49\n",
            "8                             Monoctye     17\n",
            "9                       Platelet clump     43\n"
          ]
        }
      ]
    }
  ],
  "metadata": {
    "colab": {
      "name": "Data.analysistrial1.ipynb",
      "provenance": []
    },
    "kernelspec": {
      "display_name": "Python 3",
      "name": "python3"
    },
    "language_info": {
      "name": "python"
    }
  },
  "nbformat": 4,
  "nbformat_minor": 0
}